{
  "nbformat": 4,
  "nbformat_minor": 0,
  "metadata": {
    "colab": {
      "name": "Fundamentals_Of_ML",
      "provenance": [],
      "collapsed_sections": [],
      "toc_visible": true,
      "include_colab_link": true
    },
    "kernelspec": {
      "display_name": "Python 3",
      "language": "python",
      "name": "python3"
    },
    "language_info": {
      "codemirror_mode": {
        "name": "ipython",
        "version": 3
      },
      "file_extension": ".py",
      "mimetype": "text/x-python",
      "name": "python",
      "nbconvert_exporter": "python",
      "pygments_lexer": "ipython3",
      "version": "3.7.0"
    }
  },
  "cells": [
    {
      "cell_type": "markdown",
      "metadata": {
        "id": "view-in-github",
        "colab_type": "text"
      },
      "source": [
        "<a href=\"https://colab.research.google.com/github/Jahnavi-2410/Fundamentals-of-mi/blob/main/Fundamentals_Of_ML.ipynb\" target=\"_parent\"><img src=\"https://colab.research.google.com/assets/colab-badge.svg\" alt=\"Open In Colab\"/></a>"
      ]
    },
    {
      "cell_type": "markdown",
      "metadata": {
        "id": "XeP-kmnJcadv"
      },
      "source": [
        "# Fundamentals of machine learning"
      ]
    },
    {
      "cell_type": "markdown",
      "metadata": {
        "id": "pFF0gVDgcadx"
      },
      "source": [
        "## Generalization: The goal of machine learning"
      ]
    },
    {
      "cell_type": "markdown",
      "metadata": {
        "id": "8qJCbok4cady"
      },
      "source": [
        "### Underfitting and overfitting"
      ]
    },
    {
      "cell_type": "markdown",
      "metadata": {
        "id": "ZQKgzJp6cady"
      },
      "source": [
        "#### Noisy training data"
      ]
    },
    {
      "cell_type": "markdown",
      "metadata": {
        "id": "0ILDHp72cadz"
      },
      "source": [
        "#### Ambiguous features"
      ]
    },
    {
      "cell_type": "markdown",
      "metadata": {
        "id": "Zj8mbilEcad0"
      },
      "source": [
        "#### Rare features and spurious correlations"
      ]
    },
    {
      "cell_type": "markdown",
      "metadata": {
        "id": "lozXmaIscad1"
      },
      "source": [
        "**Adding white-noise channels or all-zeros channels to MNIST**"
      ]
    },
    {
      "cell_type": "code",
      "metadata": {
        "id": "-fc5mS5Gcad2",
        "colab": {
          "base_uri": "https://localhost:8080/"
        },
        "outputId": "7e0ce12e-21a1-4bd6-d528-9ddf54999ce7"
      },
      "source": [
        "from tensorflow.keras.datasets import mnist\n",
        "import numpy as np\n",
        "\n",
        "(train_images, train_labels), _ = mnist.load_data()\n",
        "train_images = train_images.reshape((60000, 28 * 28))\n",
        "train_images = train_images.astype(\"float32\") / 255\n",
        "\n",
        "train_images_with_noise_channels = np.concatenate(\n",
        "    [train_images, np.random.random((len(train_images), 784))], axis=1)\n",
        "\n",
        "train_images_with_zeros_channels = np.concatenate(\n",
        "    [train_images, np.zeros((len(train_images), 784))], axis=1)"
      ],
      "execution_count": null,
      "outputs": [
        {
          "output_type": "stream",
          "name": "stdout",
          "text": [
            "Downloading data from https://storage.googleapis.com/tensorflow/tf-keras-datasets/mnist.npz\n",
            "11493376/11490434 [==============================] - 0s 0us/step\n",
            "11501568/11490434 [==============================] - 0s 0us/step\n"
          ]
        }
      ]
    },
    {
      "cell_type": "markdown",
      "metadata": {
        "id": "XGtYIEILcad6"
      },
      "source": [
        "**Training the same model on MNIST data with noise channels or all-zero channels**"
      ]
    },
    {
      "cell_type": "code",
      "metadata": {
        "id": "V2ARKkv2cad7",
        "colab": {
          "base_uri": "https://localhost:8080/"
        },
        "outputId": "01e86ac4-bf65-4043-ee42-0f9586149c87"
      },
      "source": [
        "from tensorflow import keras\n",
        "from tensorflow.keras import layers\n",
        "\n",
        "def get_model():\n",
        "    model = keras.Sequential([\n",
        "        layers.Dense(512, activation=\"relu\"),\n",
        "        layers.Dense(10, activation=\"softmax\")\n",
        "    ])\n",
        "    model.compile(optimizer=\"rmsprop\",\n",
        "                  loss=\"sparse_categorical_crossentropy\",\n",
        "                  metrics=[\"accuracy\"])\n",
        "    return model\n",
        "\n",
        "model = get_model()\n",
        "history_noise = model.fit(\n",
        "    train_images_with_noise_channels, train_labels,\n",
        "    epochs=10,\n",
        "    batch_size=128,\n",
        "    validation_split=0.2)\n",
        "\n",
        "model = get_model()\n",
        "history_zeros = model.fit(\n",
        "    train_images_with_zeros_channels, train_labels,\n",
        "    epochs=10,\n",
        "    batch_size=128,\n",
        "    validation_split=0.2)"
      ],
      "execution_count": null,
      "outputs": [
        {
          "output_type": "stream",
          "name": "stdout",
          "text": [
            "Epoch 1/10\n",
            "375/375 [==============================] - 6s 14ms/step - loss: 0.6325 - accuracy: 0.8107 - val_loss: 0.3594 - val_accuracy: 0.8789\n",
            "Epoch 2/10\n",
            "375/375 [==============================] - 5s 14ms/step - loss: 0.2474 - accuracy: 0.9223 - val_loss: 0.2748 - val_accuracy: 0.9153\n",
            "Epoch 3/10\n",
            "375/375 [==============================] - 5s 14ms/step - loss: 0.1585 - accuracy: 0.9514 - val_loss: 0.1754 - val_accuracy: 0.9473\n",
            "Epoch 4/10\n",
            "375/375 [==============================] - 5s 14ms/step - loss: 0.1110 - accuracy: 0.9650 - val_loss: 0.1258 - val_accuracy: 0.9627\n",
            "Epoch 5/10\n",
            "375/375 [==============================] - 5s 14ms/step - loss: 0.0821 - accuracy: 0.9740 - val_loss: 0.1464 - val_accuracy: 0.9588\n",
            "Epoch 6/10\n",
            "375/375 [==============================] - 5s 14ms/step - loss: 0.0589 - accuracy: 0.9806 - val_loss: 0.1283 - val_accuracy: 0.9652\n",
            "Epoch 7/10\n",
            "375/375 [==============================] - 5s 14ms/step - loss: 0.0440 - accuracy: 0.9858 - val_loss: 0.1207 - val_accuracy: 0.9689\n",
            "Epoch 8/10\n",
            "375/375 [==============================] - 5s 14ms/step - loss: 0.0334 - accuracy: 0.9887 - val_loss: 0.2240 - val_accuracy: 0.9445\n",
            "Epoch 9/10\n",
            "375/375 [==============================] - 5s 14ms/step - loss: 0.0268 - accuracy: 0.9919 - val_loss: 0.1473 - val_accuracy: 0.9626\n",
            "Epoch 10/10\n",
            "375/375 [==============================] - 5s 14ms/step - loss: 0.0192 - accuracy: 0.9939 - val_loss: 0.1225 - val_accuracy: 0.9709\n",
            "Epoch 1/10\n",
            "375/375 [==============================] - 5s 14ms/step - loss: 0.2851 - accuracy: 0.9168 - val_loss: 0.1525 - val_accuracy: 0.9555\n",
            "Epoch 2/10\n",
            "375/375 [==============================] - 5s 13ms/step - loss: 0.1184 - accuracy: 0.9650 - val_loss: 0.1051 - val_accuracy: 0.9674\n",
            "Epoch 3/10\n",
            "375/375 [==============================] - 5s 13ms/step - loss: 0.0782 - accuracy: 0.9772 - val_loss: 0.0869 - val_accuracy: 0.9742\n",
            "Epoch 4/10\n",
            "375/375 [==============================] - 5s 13ms/step - loss: 0.0555 - accuracy: 0.9832 - val_loss: 0.0869 - val_accuracy: 0.9752\n",
            "Epoch 5/10\n",
            "375/375 [==============================] - 5s 13ms/step - loss: 0.0409 - accuracy: 0.9877 - val_loss: 0.0833 - val_accuracy: 0.9769\n",
            "Epoch 6/10\n",
            "375/375 [==============================] - 5s 13ms/step - loss: 0.0309 - accuracy: 0.9909 - val_loss: 0.0844 - val_accuracy: 0.9767\n",
            "Epoch 7/10\n",
            "375/375 [==============================] - 5s 13ms/step - loss: 0.0238 - accuracy: 0.9931 - val_loss: 0.0854 - val_accuracy: 0.9770\n",
            "Epoch 8/10\n",
            "375/375 [==============================] - 5s 13ms/step - loss: 0.0180 - accuracy: 0.9946 - val_loss: 0.0836 - val_accuracy: 0.9792\n",
            "Epoch 9/10\n",
            "375/375 [==============================] - 5s 13ms/step - loss: 0.0134 - accuracy: 0.9962 - val_loss: 0.0937 - val_accuracy: 0.9772\n",
            "Epoch 10/10\n",
            "375/375 [==============================] - 5s 13ms/step - loss: 0.0100 - accuracy: 0.9973 - val_loss: 0.0927 - val_accuracy: 0.9793\n"
          ]
        }
      ]
    },
    {
      "cell_type": "markdown",
      "metadata": {
        "id": "kiohEf2Ccad8"
      },
      "source": [
        "**Plotting a validation accuracy comparison**"
      ]
    },
    {
      "cell_type": "code",
      "metadata": {
        "id": "oVNUxjilcad9",
        "colab": {
          "base_uri": "https://localhost:8080/",
          "height": 312
        },
        "outputId": "025d1f0e-8916-4d53-8ca2-8aa4b1ffa110"
      },
      "source": [
        "import matplotlib.pyplot as plt\n",
        "val_acc_noise = history_noise.history[\"val_accuracy\"]\n",
        "val_acc_zeros = history_zeros.history[\"val_accuracy\"]\n",
        "epochs = range(1, 11)\n",
        "plt.plot(epochs, val_acc_noise, \"b-\",\n",
        "         label=\"Validation accuracy with noise channels\")\n",
        "plt.plot(epochs, val_acc_zeros, \"b--\",\n",
        "         label=\"Validation accuracy with zeros channels\")\n",
        "plt.title(\"Effect of noise channels on validation accuracy\")\n",
        "plt.xlabel(\"Epochs\")\n",
        "plt.ylabel(\"Accuracy\")\n",
        "plt.legend()"
      ],
      "execution_count": null,
      "outputs": [
        {
          "output_type": "execute_result",
          "data": {
            "text/plain": [
              "<matplotlib.legend.Legend at 0x7f697a39b0d0>"
            ]
          },
          "metadata": {},
          "execution_count": 10
        },
        {
          "output_type": "display_data",
          "data": {
            "image/png": "[encoded data removed]",
            "text/plain": [
              "<Figure size 432x288 with 1 Axes>"
            ]
          },
          "metadata": {
            "needs_background": "light"
          }
        }
      ]
    },
    {
      "cell_type": "markdown",
      "metadata": {
        "id": "XXGXwGpscad9"
      },
      "source": [
        "### The nature of generalization in deep learning"
      ]
    },
    {
      "cell_type": "markdown",
      "metadata": {
        "id": "3kIVfjB9cad_"
      },
      "source": [
        "**Fitting a MNIST model with randomly shuffled labels**"
      ]
    },
    {
      "cell_type": "code",
      "metadata": {
        "id": "6HcFTX5Rcad_",
        "colab": {
          "base_uri": "https://localhost:8080/"
        },
        "outputId": "7fe74582-9f08-44e2-f9d6-e83a0bf80cfa"
      },
      "source": [
        "(train_images, train_labels), _ = mnist.load_data()\n",
        "train_images = train_images.reshape((60000, 28 * 28))\n",
        "train_images = train_images.astype(\"float32\") / 255\n",
        "\n",
        "random_train_labels = train_labels[:]\n",
        "np.random.shuffle(random_train_labels)\n",
        "\n",
        "model = keras.Sequential([\n",
        "    layers.Dense(512, activation=\"relu\"),\n",
        "    layers.Dense(10, activation=\"softmax\")\n",
        "])\n",
        "model.compile(optimizer=\"rmsprop\",\n",
        "              loss=\"sparse_categorical_crossentropy\",\n",
        "              metrics=[\"accuracy\"])\n",
        "model.fit(train_images, random_train_labels,\n",
        "          epochs=100,\n",
        "          batch_size=128,\n",
        "          validation_split=0.2)"
      ],
      "execution_count": null,
      "outputs": [
        {
          "output_type": "stream",
          "name": "stdout",
          "text": [
            "375/375 [==============================] - 3s 8ms/step - loss: 1.7924 - accuracy: 0.3715 - val_loss: 2.7225 - val_accuracy: 0.0993\n",
            "Epoch 21/100\n",
            "375/375 [==============================] - 3s 8ms/step - loss: 1.7580 - accuracy: 0.3891 - val_loss: 2.7550 - val_accuracy: 0.0997\n",
            "Epoch 22/100\n",
            "375/375 [==============================] - 3s 8ms/step - loss: 1.7281 - accuracy: 0.4002 - val_loss: 2.7921 - val_accuracy: 0.1026\n",
            "Epoch 23/100\n",
            "375/375 [==============================] - 3s 8ms/step - loss: 1.6995 - accuracy: 0.4110 - val_loss: 2.8409 - val_accuracy: 0.1042\n",
            "Epoch 24/100\n",
            "375/375 [==============================] - 3s 8ms/step - loss: 1.6686 - accuracy: 0.4219 - val_loss: 2.8743 - val_accuracy: 0.1016\n",
            "Epoch 25/100\n",
            "375/375 [==============================] - 3s 8ms/step - loss: 1.6398 - accuracy: 0.4347 - val_loss: 2.8993 - val_accuracy: 0.1002\n",
            "Epoch 26/100\n",
            "375/375 [==============================] - 3s 8ms/step - loss: 1.6094 - accuracy: 0.4458 - val_loss: 2.9497 - val_accuracy: 0.1053\n",
            "Epoch 27/100\n",
            "375/375 [==============================] - 3s 7ms/step - loss: 1.5824 - accuracy: 0.4561 - val_loss: 2.9803 - val_accuracy: 0.1023\n",
            "Epoch 28/100\n",
            "375/375 [==============================] - 3s 8ms/step - loss: 1.5566 - accuracy: 0.4637 - val_loss: 3.0498 - val_accuracy: 0.1042\n",
            "Epoch 29/100\n",
            "375/375 [==============================] - 3s 8ms/step - loss: 1.5309 - accuracy: 0.4727 - val_loss: 3.0957 - val_accuracy: 0.1013\n",
            "Epoch 30/100\n",
            "375/375 [==============================] - 3s 8ms/step - loss: 1.5039 - accuracy: 0.4837 - val_loss: 3.1370 - val_accuracy: 0.1002\n",
            "Epoch 31/100\n",
            "375/375 [==============================] - 3s 8ms/step - loss: 1.4800 - accuracy: 0.4919 - val_loss: 3.1956 - val_accuracy: 0.1013\n",
            "Epoch 32/100\n",
            "375/375 [==============================] - 3s 8ms/step - loss: 1.4533 - accuracy: 0.5025 - val_loss: 3.2284 - val_accuracy: 0.1010\n",
            "Epoch 33/100\n",
            "375/375 [==============================] - 3s 8ms/step - loss: 1.4297 - accuracy: 0.5086 - val_loss: 3.2615 - val_accuracy: 0.1023\n",
            "Epoch 34/100\n",
            "375/375 [==============================] - 3s 8ms/step - loss: 1.4068 - accuracy: 0.5207 - val_loss: 3.3240 - val_accuracy: 0.1022\n",
            "Epoch 35/100\n",
            "375/375 [==============================] - 3s 8ms/step - loss: 1.3832 - accuracy: 0.5287 - val_loss: 3.3532 - val_accuracy: 0.0997\n",
            "Epoch 36/100\n",
            "375/375 [==============================] - 3s 8ms/step - loss: 1.3597 - accuracy: 0.5380 - val_loss: 3.4214 - val_accuracy: 0.1017\n",
            "Epoch 37/100\n",
            "375/375 [==============================] - 3s 8ms/step - loss: 1.3394 - accuracy: 0.5434 - val_loss: 3.4578 - val_accuracy: 0.1009\n",
            "Epoch 38/100\n",
            "375/375 [==============================] - 3s 8ms/step - loss: 1.3167 - accuracy: 0.5541 - val_loss: 3.4802 - val_accuracy: 0.1046\n",
            "Epoch 39/100\n",
            "375/375 [==============================] - 3s 8ms/step - loss: 1.2952 - accuracy: 0.5583 - val_loss: 3.5376 - val_accuracy: 0.1042\n",
            "Epoch 40/100\n",
            "375/375 [==============================] - 3s 8ms/step - loss: 1.2764 - accuracy: 0.5669 - val_loss: 3.6078 - val_accuracy: 0.1018\n",
            "Epoch 41/100\n",
            "375/375 [==============================] - 3s 8ms/step - loss: 1.2554 - accuracy: 0.5736 - val_loss: 3.6204 - val_accuracy: 0.1022\n",
            "Epoch 42/100\n",
            "375/375 [==============================] - 3s 8ms/step - loss: 1.2345 - accuracy: 0.5827 - val_loss: 3.6880 - val_accuracy: 0.0995\n",
            "Epoch 43/100\n",
            "375/375 [==============================] - 3s 8ms/step - loss: 1.2135 - accuracy: 0.5875 - val_loss: 3.7036 - val_accuracy: 0.1023\n",
            "Epoch 44/100\n",
            "375/375 [==============================] - 3s 7ms/step - loss: 1.1956 - accuracy: 0.5962 - val_loss: 3.7926 - val_accuracy: 0.1010\n",
            "Epoch 45/100\n",
            "375/375 [==============================] - 3s 8ms/step - loss: 1.1773 - accuracy: 0.6005 - val_loss: 3.8908 - val_accuracy: 0.0988\n",
            "Epoch 46/100\n",
            "375/375 [==============================] - 3s 8ms/step - loss: 1.1589 - accuracy: 0.6103 - val_loss: 3.9265 - val_accuracy: 0.1018\n",
            "Epoch 47/100\n",
            "375/375 [==============================] - 3s 8ms/step - loss: 1.1408 - accuracy: 0.6140 - val_loss: 3.9441 - val_accuracy: 0.1033\n",
            "Epoch 48/100\n",
            "375/375 [==============================] - 3s 8ms/step - loss: 1.1239 - accuracy: 0.6197 - val_loss: 3.9983 - val_accuracy: 0.0994\n",
            "Epoch 49/100\n",
            "375/375 [==============================] - 3s 8ms/step - loss: 1.1083 - accuracy: 0.6280 - val_loss: 4.0468 - val_accuracy: 0.0967\n",
            "Epoch 50/100\n",
            "375/375 [==============================] - 3s 8ms/step - loss: 1.0892 - accuracy: 0.6324 - val_loss: 4.1060 - val_accuracy: 0.1002\n",
            "Epoch 51/100\n",
            "375/375 [==============================] - 3s 8ms/step - loss: 1.0728 - accuracy: 0.6394 - val_loss: 4.2046 - val_accuracy: 0.0988\n",
            "Epoch 52/100\n",
            "375/375 [==============================] - 3s 8ms/step - loss: 1.0539 - accuracy: 0.6454 - val_loss: 4.2524 - val_accuracy: 0.1047\n",
            "Epoch 53/100\n",
            "375/375 [==============================] - 3s 8ms/step - loss: 1.0407 - accuracy: 0.6501 - val_loss: 4.2835 - val_accuracy: 0.0975\n",
            "Epoch 54/100\n",
            "375/375 [==============================] - 3s 8ms/step - loss: 1.0244 - accuracy: 0.6568 - val_loss: 4.3129 - val_accuracy: 0.1002\n",
            "Epoch 55/100\n",
            "375/375 [==============================] - 3s 8ms/step - loss: 1.0084 - accuracy: 0.6637 - val_loss: 4.4066 - val_accuracy: 0.0993\n",
            "Epoch 56/100\n",
            "375/375 [==============================] - 3s 8ms/step - loss: 0.9946 - accuracy: 0.6678 - val_loss: 4.4388 - val_accuracy: 0.0979\n",
            "Epoch 57/100\n",
            "375/375 [==============================] - 3s 8ms/step - loss: 0.9796 - accuracy: 0.6704 - val_loss: 4.5205 - val_accuracy: 0.0985\n",
            "Epoch 58/100\n",
            "375/375 [==============================] - 3s 8ms/step - loss: 0.9656 - accuracy: 0.6755 - val_loss: 4.5634 - val_accuracy: 0.0993\n",
            "Epoch 59/100\n",
            "375/375 [==============================] - 3s 8ms/step - loss: 0.9503 - accuracy: 0.6822 - val_loss: 4.6229 - val_accuracy: 0.1002\n",
            "Epoch 60/100\n",
            "375/375 [==============================] - 3s 8ms/step - loss: 0.9360 - accuracy: 0.6895 - val_loss: 4.6770 - val_accuracy: 0.0998\n",
            "Epoch 61/100\n",
            "375/375 [==============================] - 3s 8ms/step - loss: 0.9225 - accuracy: 0.6902 - val_loss: 4.7345 - val_accuracy: 0.0985\n",
            "Epoch 62/100\n",
            "375/375 [==============================] - 3s 8ms/step - loss: 0.9083 - accuracy: 0.6973 - val_loss: 4.8012 - val_accuracy: 0.0973\n",
            "Epoch 63/100\n",
            "375/375 [==============================] - 3s 8ms/step - loss: 0.8954 - accuracy: 0.7034 - val_loss: 4.8440 - val_accuracy: 0.1004\n",
            "Epoch 64/100\n",
            "375/375 [==============================] - 3s 8ms/step - loss: 0.8833 - accuracy: 0.7062 - val_loss: 4.9227 - val_accuracy: 0.0983\n",
            "Epoch 65/100\n",
            "375/375 [==============================] - 3s 8ms/step - loss: 0.8688 - accuracy: 0.7114 - val_loss: 4.9549 - val_accuracy: 0.1019\n",
            "Epoch 66/100\n",
            "375/375 [==============================] - 3s 8ms/step - loss: 0.8563 - accuracy: 0.7170 - val_loss: 5.0051 - val_accuracy: 0.0972\n",
            "Epoch 67/100\n",
            "375/375 [==============================] - 3s 8ms/step - loss: 0.8447 - accuracy: 0.7189 - val_loss: 5.1247 - val_accuracy: 0.0991\n",
            "Epoch 68/100\n",
            "375/375 [==============================] - 3s 8ms/step - loss: 0.8300 - accuracy: 0.7260 - val_loss: 5.1452 - val_accuracy: 0.0987\n",
            "Epoch 69/100\n",
            "375/375 [==============================] - 3s 8ms/step - loss: 0.8208 - accuracy: 0.7293 - val_loss: 5.2021 - val_accuracy: 0.0982\n",
            "Epoch 70/100\n",
            "375/375 [==============================] - 3s 8ms/step - loss: 0.8097 - accuracy: 0.7325 - val_loss: 5.2676 - val_accuracy: 0.0990\n",
            "Epoch 71/100\n",
            "375/375 [==============================] - 3s 8ms/step - loss: 0.7971 - accuracy: 0.7372 - val_loss: 5.3833 - val_accuracy: 0.0962\n",
            "Epoch 72/100\n",
            "375/375 [==============================] - 3s 8ms/step - loss: 0.7851 - accuracy: 0.7417 - val_loss: 5.3989 - val_accuracy: 0.1009\n",
            "Epoch 73/100\n",
            "375/375 [==============================] - 3s 8ms/step - loss: 0.7727 - accuracy: 0.7451 - val_loss: 5.4678 - val_accuracy: 0.0975\n",
            "Epoch 74/100\n",
            "375/375 [==============================] - 3s 8ms/step - loss: 0.7637 - accuracy: 0.7501 - val_loss: 5.5426 - val_accuracy: 0.0994\n",
            "Epoch 75/100\n",
            "375/375 [==============================] - 3s 8ms/step - loss: 0.7515 - accuracy: 0.7507 - val_loss: 5.6036 - val_accuracy: 0.0980\n",
            "Epoch 76/100\n",
            "375/375 [==============================] - 3s 8ms/step - loss: 0.7411 - accuracy: 0.7537 - val_loss: 5.6599 - val_accuracy: 0.0975\n",
            "Epoch 77/100\n",
            "375/375 [==============================] - 3s 8ms/step - loss: 0.7311 - accuracy: 0.7608 - val_loss: 5.7021 - val_accuracy: 0.0958\n",
            "Epoch 78/100\n",
            "375/375 [==============================] - 3s 8ms/step - loss: 0.7201 - accuracy: 0.7636 - val_loss: 5.7733 - val_accuracy: 0.0959\n",
            "Epoch 79/100\n",
            "375/375 [==============================] - 3s 8ms/step - loss: 0.7098 - accuracy: 0.7674 - val_loss: 5.8623 - val_accuracy: 0.0989\n",
            "Epoch 80/100\n",
            "375/375 [==============================] - 3s 8ms/step - loss: 0.7007 - accuracy: 0.7710 - val_loss: 5.9381 - val_accuracy: 0.1013\n",
            "Epoch 81/100\n",
            "375/375 [==============================] - 3s 8ms/step - loss: 0.6910 - accuracy: 0.7736 - val_loss: 5.9892 - val_accuracy: 0.0994\n",
            "Epoch 82/100\n",
            "375/375 [==============================] - 3s 8ms/step - loss: 0.6800 - accuracy: 0.7768 - val_loss: 6.0349 - val_accuracy: 0.0978\n",
            "Epoch 83/100\n",
            "375/375 [==============================] - 3s 8ms/step - loss: 0.6714 - accuracy: 0.7794 - val_loss: 6.0970 - val_accuracy: 0.0965\n",
            "Epoch 84/100\n",
            "375/375 [==============================] - 3s 8ms/step - loss: 0.6608 - accuracy: 0.7859 - val_loss: 6.1349 - val_accuracy: 0.0983\n",
            "Epoch 85/100\n",
            "375/375 [==============================] - 3s 8ms/step - loss: 0.6531 - accuracy: 0.7883 - val_loss: 6.2325 - val_accuracy: 0.0992\n",
            "Epoch 86/100\n",
            "375/375 [==============================] - 3s 8ms/step - loss: 0.6447 - accuracy: 0.7894 - val_loss: 6.2858 - val_accuracy: 0.0978\n",
            "Epoch 87/100\n",
            "375/375 [==============================] - 3s 8ms/step - loss: 0.6348 - accuracy: 0.7928 - val_loss: 6.3290 - val_accuracy: 0.1022\n",
            "Epoch 88/100\n",
            "375/375 [==============================] - 3s 8ms/step - loss: 0.6267 - accuracy: 0.7961 - val_loss: 6.4082 - val_accuracy: 0.0971\n",
            "Epoch 89/100\n",
            "375/375 [==============================] - 3s 8ms/step - loss: 0.6198 - accuracy: 0.7959 - val_loss: 6.4983 - val_accuracy: 0.0982\n",
            "Epoch 90/100\n",
            "375/375 [==============================] - 3s 8ms/step - loss: 0.6102 - accuracy: 0.8002 - val_loss: 6.5339 - val_accuracy: 0.0978\n",
            "Epoch 91/100\n",
            "375/375 [==============================] - 3s 8ms/step - loss: 0.6021 - accuracy: 0.8044 - val_loss: 6.5927 - val_accuracy: 0.1007\n",
            "Epoch 92/100\n",
            "375/375 [==============================] - 3s 8ms/step - loss: 0.5928 - accuracy: 0.8063 - val_loss: 6.6438 - val_accuracy: 0.0988\n",
            "Epoch 93/100\n",
            "375/375 [==============================] - 3s 8ms/step - loss: 0.5858 - accuracy: 0.8111 - val_loss: 6.7099 - val_accuracy: 0.0988\n",
            "Epoch 94/100\n",
            "375/375 [==============================] - 3s 8ms/step - loss: 0.5793 - accuracy: 0.8128 - val_loss: 6.7807 - val_accuracy: 0.0966\n",
            "Epoch 95/100\n",
            "375/375 [==============================] - 3s 8ms/step - loss: 0.5690 - accuracy: 0.8142 - val_loss: 6.8870 - val_accuracy: 0.0969\n",
            "Epoch 96/100\n",
            "375/375 [==============================] - 3s 8ms/step - loss: 0.5624 - accuracy: 0.8164 - val_loss: 6.9246 - val_accuracy: 0.0962\n",
            "Epoch 97/100\n",
            "375/375 [==============================] - 3s 8ms/step - loss: 0.5547 - accuracy: 0.8199 - val_loss: 7.0030 - val_accuracy: 0.0953\n",
            "Epoch 98/100\n",
            "375/375 [==============================] - 3s 8ms/step - loss: 0.5479 - accuracy: 0.8237 - val_loss: 7.0479 - val_accuracy: 0.0982\n",
            "Epoch 99/100\n",
            "375/375 [==============================] - 3s 8ms/step - loss: 0.5399 - accuracy: 0.8256 - val_loss: 7.1220 - val_accuracy: 0.0962\n",
            "Epoch 100/100\n",
            "375/375 [==============================] - 3s 8ms/step - loss: 0.5333 - accuracy: 0.8279 - val_loss: 7.2145 - val_accuracy: 0.0985\n"
          ]
        },
        {
          "output_type": "execute_result",
          "data": {
            "text/plain": [
              "<keras.callbacks.History at 0x7f6973958b50>"
            ]
          },
          "metadata": {},
          "execution_count": 11
        }
      ]
    },
    {
      "cell_type": "markdown",
      "metadata": {
        "id": "kQSOBA9ZcaeA"
      },
      "source": [
        "#### The manifold hypothesis"
      ]
    },
    {
      "cell_type": "markdown",
      "metadata": {
        "id": "xtL-7isJcaeA"
      },
      "source": [
        "#### Interpolation as a source of generalization"
      ]
    },
    {
      "cell_type": "markdown",
      "metadata": {
        "id": "idDrQk4VcaeB"
      },
      "source": [
        "#### Why deep learning works"
      ]
    },
    {
      "cell_type": "markdown",
      "metadata": {
        "id": "w1Cb0LXhcaeB"
      },
      "source": [
        "#### Training data is paramount"
      ]
    },
    {
      "cell_type": "markdown",
      "metadata": {
        "id": "RjDeJ-XMcaeC"
      },
      "source": [
        "## Evaluating machine-learning models"
      ]
    },
    {
      "cell_type": "markdown",
      "metadata": {
        "id": "mlzFwaL8caeC"
      },
      "source": [
        "### Training, validation, and test sets"
      ]
    },
    {
      "cell_type": "markdown",
      "metadata": {
        "id": "Jpf_7Ls3caeC"
      },
      "source": [
        "#### Simple hold-out validation"
      ]
    },
    {
      "cell_type": "markdown",
      "metadata": {
        "id": "geQcotlrcaeD"
      },
      "source": [
        "#### K-fold validation"
      ]
    },
    {
      "cell_type": "markdown",
      "metadata": {
        "id": "VKNPX9mXcaeD"
      },
      "source": [
        "#### Iterated K-fold validation with shuffling"
      ]
    },
    {
      "cell_type": "markdown",
      "metadata": {
        "id": "p4IVZi82caeD"
      },
      "source": [
        "### Beating a common-sense baseline"
      ]
    },
    {
      "cell_type": "markdown",
      "metadata": {
        "id": "krCHtQjucaeD"
      },
      "source": [
        "### Things to keep in mind about model evaluation"
      ]
    },
    {
      "cell_type": "markdown",
      "metadata": {
        "id": "D1zsY_p6caeD"
      },
      "source": [
        "## Improving model fit"
      ]
    },
    {
      "cell_type": "markdown",
      "metadata": {
        "id": "Ysu4T8DucaeE"
      },
      "source": [
        "### Tuning key gradient descent parameters"
      ]
    },
    {
      "cell_type": "markdown",
      "metadata": {
        "id": "i10tTH2NcaeE"
      },
      "source": [
        "**Training a MNIST model with an incorrectly high learning rate**"
      ]
    },
    {
      "cell_type": "code",
      "metadata": {
        "id": "CE6t4l3fcaeE",
        "colab": {
          "base_uri": "https://localhost:8080/"
        },
        "outputId": "5710b1c1-5cde-4730-d71e-dbafc81e7135"
      },
      "source": [
        "(train_images, train_labels), _ = mnist.load_data()\n",
        "train_images = train_images.reshape((60000, 28 * 28))\n",
        "train_images = train_images.astype(\"float32\") / 255\n",
        "\n",
        "model = keras.Sequential([\n",
        "    layers.Dense(512, activation=\"relu\"),\n",
        "    layers.Dense(10, activation=\"softmax\")\n",
        "])\n",
        "model.compile(optimizer=keras.optimizers.RMSprop(1.),\n",
        "              loss=\"sparse_categorical_crossentropy\",\n",
        "              metrics=[\"accuracy\"])\n",
        "model.fit(train_images, train_labels,\n",
        "          epochs=10,\n",
        "          batch_size=128,\n",
        "          validation_split=0.2)"
      ],
      "execution_count": null,
      "outputs": [
        {
          "output_type": "stream",
          "name": "stdout",
          "text": [
            "Epoch 1/10\n",
            "375/375 [==============================] - 3s 8ms/step - loss: 1075.7363 - accuracy: 0.4041 - val_loss: 31.3521 - val_accuracy: 0.2965\n",
            "Epoch 2/10\n",
            "375/375 [==============================] - 3s 8ms/step - loss: 4.2604 - accuracy: 0.2760 - val_loss: 2.3284 - val_accuracy: 0.2780\n",
            "Epoch 3/10\n",
            "375/375 [==============================] - 3s 8ms/step - loss: 2.9843 - accuracy: 0.2481 - val_loss: 2.5261 - val_accuracy: 0.2888\n",
            "Epoch 4/10\n",
            "375/375 [==============================] - 3s 8ms/step - loss: 3.6225 - accuracy: 0.2609 - val_loss: 2.2163 - val_accuracy: 0.2751\n",
            "Epoch 5/10\n",
            "375/375 [==============================] - 3s 8ms/step - loss: 4.7912 - accuracy: 0.2621 - val_loss: 3.2901 - val_accuracy: 0.2691\n",
            "Epoch 6/10\n",
            "375/375 [==============================] - 3s 8ms/step - loss: 3.1377 - accuracy: 0.2852 - val_loss: 2.2754 - val_accuracy: 0.2877\n",
            "Epoch 7/10\n",
            "375/375 [==============================] - 3s 8ms/step - loss: 2.6649 - accuracy: 0.2690 - val_loss: 2.1178 - val_accuracy: 0.2690\n",
            "Epoch 8/10\n",
            "375/375 [==============================] - 3s 8ms/step - loss: 2.5033 - accuracy: 0.2681 - val_loss: 3.8259 - val_accuracy: 0.3007\n",
            "Epoch 9/10\n",
            "375/375 [==============================] - 3s 8ms/step - loss: 2.5594 - accuracy: 0.2833 - val_loss: 2.1064 - val_accuracy: 0.2355\n",
            "Epoch 10/10\n",
            "375/375 [==============================] - 3s 8ms/step - loss: 2.6952 - accuracy: 0.2676 - val_loss: 2.4102 - val_accuracy: 0.2618\n"
          ]
        },
        {
          "output_type": "execute_result",
          "data": {
            "text/plain": [
              "<keras.callbacks.History at 0x7f6973774450>"
            ]
          },
          "metadata": {},
          "execution_count": 12
        }
      ]
    },
    {
      "cell_type": "markdown",
      "metadata": {
        "id": "PM-ugaDscaeE"
      },
      "source": [
        "**The same model with a more appropriate learning rate**"
      ]
    },
    {
      "cell_type": "code",
      "metadata": {
        "id": "yW3RuCS5caeE",
        "colab": {
          "base_uri": "https://localhost:8080/"
        },
        "outputId": "a317d8ff-ef97-4d78-b5fe-3a000cec735d"
      },
      "source": [
        "model = keras.Sequential([\n",
        "    layers.Dense(512, activation=\"relu\"),\n",
        "    layers.Dense(10, activation=\"softmax\")\n",
        "])\n",
        "model.compile(optimizer=keras.optimizers.RMSprop(1e-2),\n",
        "              loss=\"sparse_categorical_crossentropy\",\n",
        "              metrics=[\"accuracy\"])\n",
        "model.fit(train_images, train_labels,\n",
        "          epochs=10,\n",
        "          batch_size=128,\n",
        "          validation_split=0.2)"
      ],
      "execution_count": null,
      "outputs": [
        {
          "output_type": "stream",
          "name": "stdout",
          "text": [
            "Epoch 1/10\n",
            "375/375 [==============================] - 3s 8ms/step - loss: 0.3734 - accuracy: 0.9121 - val_loss: 0.1375 - val_accuracy: 0.9642\n",
            "Epoch 2/10\n",
            "375/375 [==============================] - 3s 8ms/step - loss: 0.1435 - accuracy: 0.9626 - val_loss: 0.1401 - val_accuracy: 0.9670\n",
            "Epoch 3/10\n",
            "375/375 [==============================] - 3s 8ms/step - loss: 0.1121 - accuracy: 0.9737 - val_loss: 0.2044 - val_accuracy: 0.9628\n",
            "Epoch 4/10\n",
            "375/375 [==============================] - 3s 8ms/step - loss: 0.0956 - accuracy: 0.9781 - val_loss: 0.1902 - val_accuracy: 0.9670\n",
            "Epoch 5/10\n",
            "375/375 [==============================] - 3s 8ms/step - loss: 0.0844 - accuracy: 0.9818 - val_loss: 0.2152 - val_accuracy: 0.9698\n",
            "Epoch 6/10\n",
            "375/375 [==============================] - 3s 8ms/step - loss: 0.0784 - accuracy: 0.9843 - val_loss: 0.2339 - val_accuracy: 0.9709\n",
            "Epoch 7/10\n",
            "375/375 [==============================] - 3s 8ms/step - loss: 0.0736 - accuracy: 0.9852 - val_loss: 0.2356 - val_accuracy: 0.9731\n",
            "Epoch 8/10\n",
            "375/375 [==============================] - 3s 8ms/step - loss: 0.0693 - accuracy: 0.9873 - val_loss: 0.2472 - val_accuracy: 0.9735\n",
            "Epoch 9/10\n",
            "375/375 [==============================] - 3s 8ms/step - loss: 0.0615 - accuracy: 0.9880 - val_loss: 0.3368 - val_accuracy: 0.9720\n",
            "Epoch 10/10\n",
            "375/375 [==============================] - 3s 8ms/step - loss: 0.0613 - accuracy: 0.9894 - val_loss: 0.3316 - val_accuracy: 0.9697\n"
          ]
        },
        {
          "output_type": "execute_result",
          "data": {
            "text/plain": [
              "<keras.callbacks.History at 0x7f6973600050>"
            ]
          },
          "metadata": {},
          "execution_count": 13
        }
      ]
    },
    {
      "cell_type": "markdown",
      "metadata": {
        "id": "dXO_QhsUcaeF"
      },
      "source": [
        "### Leveraging better architecture priors"
      ]
    },
    {
      "cell_type": "markdown",
      "metadata": {
        "id": "slvQKZbWcaeF"
      },
      "source": [
        "### Increasing model capacity"
      ]
    },
    {
      "cell_type": "markdown",
      "metadata": {
        "id": "RkX_yJCEcaeF"
      },
      "source": [
        "**A simple logistic regression on MNIST**"
      ]
    },
    {
      "cell_type": "code",
      "metadata": {
        "id": "xklpGEyXcaeF",
        "colab": {
          "base_uri": "https://localhost:8080/"
        },
        "outputId": "9a774992-4070-4aff-90f2-0c0b426d06c2"
      },
      "source": [
        "model = keras.Sequential([layers.Dense(10, activation=\"softmax\")])\n",
        "model.compile(optimizer=\"rmsprop\",\n",
        "              loss=\"sparse_categorical_crossentropy\",\n",
        "              metrics=[\"accuracy\"])\n",
        "history_small_model = model.fit(\n",
        "    train_images, train_labels,\n",
        "    epochs=20,\n",
        "    batch_size=128,\n",
        "    validation_split=0.2)"
      ],
      "execution_count": null,
      "outputs": [
        {
          "output_type": "stream",
          "name": "stdout",
          "text": [
            "Epoch 1/20\n",
            "375/375 [==============================] - 1s 2ms/step - loss: 0.6608 - accuracy: 0.8379 - val_loss: 0.3579 - val_accuracy: 0.9038\n",
            "Epoch 2/20\n",
            "375/375 [==============================] - 1s 2ms/step - loss: 0.3510 - accuracy: 0.9039 - val_loss: 0.3065 - val_accuracy: 0.9151\n",
            "Epoch 3/20\n",
            "375/375 [==============================] - 1s 2ms/step - loss: 0.3154 - accuracy: 0.9116 - val_loss: 0.2894 - val_accuracy: 0.9199\n",
            "Epoch 4/20\n",
            "375/375 [==============================] - 1s 2ms/step - loss: 0.2995 - accuracy: 0.9161 - val_loss: 0.2824 - val_accuracy: 0.9214\n",
            "Epoch 5/20\n",
            "375/375 [==============================] - 1s 2ms/step - loss: 0.2896 - accuracy: 0.9186 - val_loss: 0.2754 - val_accuracy: 0.9235\n",
            "Epoch 6/20\n",
            "375/375 [==============================] - 1s 2ms/step - loss: 0.2832 - accuracy: 0.9212 - val_loss: 0.2706 - val_accuracy: 0.9254\n",
            "Epoch 7/20\n",
            "375/375 [==============================] - 1s 2ms/step - loss: 0.2779 - accuracy: 0.9222 - val_loss: 0.2686 - val_accuracy: 0.9259\n",
            "Epoch 8/20\n",
            "375/375 [==============================] - 1s 2ms/step - loss: 0.2745 - accuracy: 0.9234 - val_loss: 0.2659 - val_accuracy: 0.9281\n",
            "Epoch 9/20\n",
            "375/375 [==============================] - 1s 2ms/step - loss: 0.2714 - accuracy: 0.9251 - val_loss: 0.2646 - val_accuracy: 0.9286\n",
            "Epoch 10/20\n",
            "375/375 [==============================] - 1s 2ms/step - loss: 0.2685 - accuracy: 0.9255 - val_loss: 0.2625 - val_accuracy: 0.9298\n",
            "Epoch 11/20\n",
            "375/375 [==============================] - 1s 2ms/step - loss: 0.2667 - accuracy: 0.9261 - val_loss: 0.2637 - val_accuracy: 0.9288\n",
            "Epoch 12/20\n",
            "375/375 [==============================] - 1s 2ms/step - loss: 0.2646 - accuracy: 0.9266 - val_loss: 0.2616 - val_accuracy: 0.9308\n",
            "Epoch 13/20\n",
            "375/375 [==============================] - 1s 2ms/step - loss: 0.2631 - accuracy: 0.9282 - val_loss: 0.2621 - val_accuracy: 0.9293\n",
            "Epoch 14/20\n",
            "375/375 [==============================] - 1s 2ms/step - loss: 0.2614 - accuracy: 0.9277 - val_loss: 0.2621 - val_accuracy: 0.9301\n",
            "Epoch 15/20\n",
            "375/375 [==============================] - 1s 2ms/step - loss: 0.2605 - accuracy: 0.9289 - val_loss: 0.2611 - val_accuracy: 0.9297\n",
            "Epoch 16/20\n",
            "375/375 [==============================] - 1s 2ms/step - loss: 0.2593 - accuracy: 0.9286 - val_loss: 0.2618 - val_accuracy: 0.9298\n",
            "Epoch 17/20\n",
            "375/375 [==============================] - 1s 2ms/step - loss: 0.2581 - accuracy: 0.9292 - val_loss: 0.2603 - val_accuracy: 0.9303\n",
            "Epoch 18/20\n",
            "375/375 [==============================] - 1s 2ms/step - loss: 0.2573 - accuracy: 0.9295 - val_loss: 0.2609 - val_accuracy: 0.9310\n",
            "Epoch 19/20\n",
            "375/375 [==============================] - 1s 2ms/step - loss: 0.2563 - accuracy: 0.9301 - val_loss: 0.2603 - val_accuracy: 0.9298\n",
            "Epoch 20/20\n",
            "375/375 [==============================] - 1s 2ms/step - loss: 0.2556 - accuracy: 0.9303 - val_loss: 0.2619 - val_accuracy: 0.9304\n"
          ]
        }
      ]
    },
    {
      "cell_type": "code",
      "metadata": {
        "id": "xGqJ0ArgcaeF",
        "colab": {
          "base_uri": "https://localhost:8080/",
          "height": 312
        },
        "outputId": "2a45b7e0-b8fb-49de-8512-04b70b13bdd6"
      },
      "source": [
        "import matplotlib.pyplot as plt\n",
        "val_loss = history_small_model.history[\"val_loss\"]\n",
        "epochs = range(1, 21)\n",
        "plt.plot(epochs, val_loss, \"b--\",\n",
        "         label=\"Validation loss\")\n",
        "plt.title(\"Effect of insufficient model capacity on validation loss\")\n",
        "plt.xlabel(\"Epochs\")\n",
        "plt.ylabel(\"Loss\")\n",
        "plt.legend()"
      ],
      "execution_count": null,
      "outputs": [
        {
          "output_type": "execute_result",
          "data": {
            "text/plain": [
              "<matplotlib.legend.Legend at 0x7f696a873190>"
            ]
          },
          "metadata": {},
          "execution_count": 17
        },
        {
          "output_type": "display_data",
          "data": {
            "image/png": "[encoded data removed]",
            "text/plain": [
              "<Figure size 432x288 with 1 Axes>"
            ]
          },
          "metadata": {
            "needs_background": "light"
          }
        }
      ]
    },
    {
      "cell_type": "code",
      "metadata": {
        "id": "T5lFzzZLcaeG",
        "colab": {
          "base_uri": "https://localhost:8080/"
        },
        "outputId": "891ed470-60c3-4f5d-9c59-9b1a0049a72b"
      },
      "source": [
        "model = keras.Sequential([\n",
        "    layers.Dense(96, activation=\"relu\"),\n",
        "    layers.Dense(96, activation=\"relu\"),\n",
        "    layers.Dense(10, activation=\"softmax\"),\n",
        "])\n",
        "model.compile(optimizer=\"rmsprop\",\n",
        "              loss=\"sparse_categorical_crossentropy\",\n",
        "              metrics=[\"accuracy\"])\n",
        "history_large_model = model.fit(\n",
        "    train_images, train_labels,\n",
        "    epochs=20,\n",
        "    batch_size=128,\n",
        "    validation_split=0.2)"
      ],
      "execution_count": null,
      "outputs": [
        {
          "output_type": "stream",
          "name": "stdout",
          "text": [
            "Epoch 1/20\n",
            "375/375 [==============================] - 2s 4ms/step - loss: 0.3675 - accuracy: 0.8955 - val_loss: 0.2239 - val_accuracy: 0.9331\n",
            "Epoch 2/20\n",
            "375/375 [==============================] - 1s 4ms/step - loss: 0.1655 - accuracy: 0.9517 - val_loss: 0.1438 - val_accuracy: 0.9587\n",
            "Epoch 3/20\n",
            "375/375 [==============================] - 1s 3ms/step - loss: 0.1147 - accuracy: 0.9656 - val_loss: 0.1326 - val_accuracy: 0.9625\n",
            "Epoch 4/20\n",
            "375/375 [==============================] - 1s 4ms/step - loss: 0.0877 - accuracy: 0.9741 - val_loss: 0.1147 - val_accuracy: 0.9657\n",
            "Epoch 5/20\n",
            "375/375 [==============================] - 1s 4ms/step - loss: 0.0710 - accuracy: 0.9780 - val_loss: 0.1141 - val_accuracy: 0.9675\n",
            "Epoch 6/20\n",
            "375/375 [==============================] - 1s 4ms/step - loss: 0.0576 - accuracy: 0.9824 - val_loss: 0.0999 - val_accuracy: 0.9718\n",
            "Epoch 7/20\n",
            "375/375 [==============================] - 1s 4ms/step - loss: 0.0500 - accuracy: 0.9845 - val_loss: 0.0937 - val_accuracy: 0.9734\n",
            "Epoch 8/20\n",
            "375/375 [==============================] - 1s 3ms/step - loss: 0.0416 - accuracy: 0.9867 - val_loss: 0.1025 - val_accuracy: 0.9713\n",
            "Epoch 9/20\n",
            "375/375 [==============================] - 1s 4ms/step - loss: 0.0359 - accuracy: 0.9893 - val_loss: 0.0967 - val_accuracy: 0.9745\n",
            "Epoch 10/20\n",
            "375/375 [==============================] - 1s 3ms/step - loss: 0.0297 - accuracy: 0.9909 - val_loss: 0.1106 - val_accuracy: 0.9713\n",
            "Epoch 11/20\n",
            "375/375 [==============================] - 1s 4ms/step - loss: 0.0247 - accuracy: 0.9927 - val_loss: 0.1080 - val_accuracy: 0.9738\n",
            "Epoch 12/20\n",
            "375/375 [==============================] - 1s 3ms/step - loss: 0.0230 - accuracy: 0.9930 - val_loss: 0.1090 - val_accuracy: 0.9753\n",
            "Epoch 13/20\n",
            "375/375 [==============================] - 1s 3ms/step - loss: 0.0191 - accuracy: 0.9940 - val_loss: 0.1153 - val_accuracy: 0.9728\n",
            "Epoch 14/20\n",
            "375/375 [==============================] - 1s 4ms/step - loss: 0.0150 - accuracy: 0.9953 - val_loss: 0.1230 - val_accuracy: 0.9734\n",
            "Epoch 15/20\n",
            "375/375 [==============================] - 1s 3ms/step - loss: 0.0135 - accuracy: 0.9960 - val_loss: 0.1192 - val_accuracy: 0.9745\n",
            "Epoch 16/20\n",
            "375/375 [==============================] - 1s 3ms/step - loss: 0.0111 - accuracy: 0.9966 - val_loss: 0.1226 - val_accuracy: 0.9755\n",
            "Epoch 17/20\n",
            "375/375 [==============================] - 1s 3ms/step - loss: 0.0100 - accuracy: 0.9971 - val_loss: 0.1512 - val_accuracy: 0.9708\n",
            "Epoch 18/20\n",
            "375/375 [==============================] - 1s 3ms/step - loss: 0.0079 - accuracy: 0.9974 - val_loss: 0.1344 - val_accuracy: 0.9752\n",
            "Epoch 19/20\n",
            "375/375 [==============================] - 1s 3ms/step - loss: 0.0073 - accuracy: 0.9977 - val_loss: 0.1516 - val_accuracy: 0.9735\n",
            "Epoch 20/20\n",
            "375/375 [==============================] - 1s 4ms/step - loss: 0.0069 - accuracy: 0.9975 - val_loss: 0.1452 - val_accuracy: 0.9729\n"
          ]
        }
      ]
    },
    {
      "cell_type": "markdown",
      "metadata": {
        "id": "jr_UViHdcaeG"
      },
      "source": [
        "## Improving generalization"
      ]
    },
    {
      "cell_type": "markdown",
      "metadata": {
        "id": "9yfedn9mcaeG"
      },
      "source": [
        "### Dataset curation"
      ]
    },
    {
      "cell_type": "markdown",
      "metadata": {
        "id": "TXqW2BUycaeG"
      },
      "source": [
        "### Feature engineering"
      ]
    },
    {
      "cell_type": "markdown",
      "metadata": {
        "id": "QxYH8mAMcaeG"
      },
      "source": [
        "### Using early stopping"
      ]
    },
    {
      "cell_type": "markdown",
      "metadata": {
        "id": "cMPGkk9PcaeH"
      },
      "source": [
        "### Regularizing your model"
      ]
    },
    {
      "cell_type": "markdown",
      "metadata": {
        "id": "_-wEg1XPcaeH"
      },
      "source": [
        "#### Reducing the network's size"
      ]
    },
    {
      "cell_type": "markdown",
      "metadata": {
        "id": "DA3gA88wcaeH"
      },
      "source": [
        "**Original model**"
      ]
    },
    {
      "cell_type": "code",
      "metadata": {
        "id": "5ESRqWojcaeH",
        "colab": {
          "base_uri": "https://localhost:8080/"
        },
        "outputId": "fbc70a61-d46a-4769-9770-635a98b708bf"
      },
      "source": [
        "from tensorflow.keras.datasets import imdb\n",
        "(train_data, train_labels), _ = imdb.load_data(num_words=10000)\n",
        "\n",
        "def vectorize_sequences(sequences, dimension=10000):\n",
        "    results = np.zeros((len(sequences), dimension))\n",
        "    for i, sequence in enumerate(sequences):\n",
        "        results[i, sequence] = 1.\n",
        "    return results\n",
        "train_data = vectorize_sequences(train_data)\n",
        "\n",
        "model = keras.Sequential([\n",
        "    layers.Dense(16, activation=\"relu\"),\n",
        "    layers.Dense(16, activation=\"relu\"),\n",
        "    layers.Dense(1, activation=\"sigmoid\")\n",
        "])\n",
        "model.compile(optimizer=\"rmsprop\",\n",
        "              loss=\"binary_crossentropy\",\n",
        "              metrics=[\"accuracy\"])\n",
        "history_original = model.fit(train_data, train_labels,\n",
        "                             epochs=20, batch_size=512, validation_split=0.4)"
      ],
      "execution_count": null,
      "outputs": [
        {
          "output_type": "stream",
          "name": "stdout",
          "text": [
            "Downloading data from https://storage.googleapis.com/tensorflow/tf-keras-datasets/imdb.npz\n",
            "17465344/17464789 [==============================] - 0s 0us/step\n",
            "17473536/17464789 [==============================] - 0s 0us/step\n",
            "Epoch 1/20\n",
            "30/30 [==============================] - 1s 33ms/step - loss: 0.5090 - accuracy: 0.7820 - val_loss: 0.3848 - val_accuracy: 0.8615\n",
            "Epoch 2/20\n",
            "30/30 [==============================] - 1s 25ms/step - loss: 0.3036 - accuracy: 0.9017 - val_loss: 0.3068 - val_accuracy: 0.8838\n",
            "Epoch 3/20\n",
            "30/30 [==============================] - 1s 26ms/step - loss: 0.2251 - accuracy: 0.9288 - val_loss: 0.2763 - val_accuracy: 0.8911\n",
            "Epoch 4/20\n",
            "30/30 [==============================] - 1s 26ms/step - loss: 0.1768 - accuracy: 0.9441 - val_loss: 0.2754 - val_accuracy: 0.8893\n",
            "Epoch 5/20\n",
            "30/30 [==============================] - 1s 26ms/step - loss: 0.1445 - accuracy: 0.9549 - val_loss: 0.2884 - val_accuracy: 0.8851\n",
            "Epoch 6/20\n",
            "30/30 [==============================] - 1s 26ms/step - loss: 0.1188 - accuracy: 0.9624 - val_loss: 0.2927 - val_accuracy: 0.8875\n",
            "Epoch 7/20\n",
            "30/30 [==============================] - 1s 27ms/step - loss: 0.0992 - accuracy: 0.9692 - val_loss: 0.3080 - val_accuracy: 0.8857\n",
            "Epoch 8/20\n",
            "30/30 [==============================] - 1s 26ms/step - loss: 0.0819 - accuracy: 0.9769 - val_loss: 0.3293 - val_accuracy: 0.8826\n",
            "Epoch 9/20\n",
            "30/30 [==============================] - 1s 27ms/step - loss: 0.0675 - accuracy: 0.9817 - val_loss: 0.3635 - val_accuracy: 0.8776\n",
            "Epoch 10/20\n",
            "30/30 [==============================] - 1s 26ms/step - loss: 0.0560 - accuracy: 0.9849 - val_loss: 0.4203 - val_accuracy: 0.8666\n",
            "Epoch 11/20\n",
            "30/30 [==============================] - 1s 26ms/step - loss: 0.0483 - accuracy: 0.9871 - val_loss: 0.4018 - val_accuracy: 0.8770\n",
            "Epoch 12/20\n",
            "30/30 [==============================] - 1s 26ms/step - loss: 0.0355 - accuracy: 0.9926 - val_loss: 0.4298 - val_accuracy: 0.8766\n",
            "Epoch 13/20\n",
            "30/30 [==============================] - 1s 26ms/step - loss: 0.0299 - accuracy: 0.9939 - val_loss: 0.4648 - val_accuracy: 0.8728\n",
            "Epoch 14/20\n",
            "30/30 [==============================] - 1s 25ms/step - loss: 0.0247 - accuracy: 0.9953 - val_loss: 0.5178 - val_accuracy: 0.8694\n",
            "Epoch 15/20\n",
            "30/30 [==============================] - 1s 26ms/step - loss: 0.0207 - accuracy: 0.9960 - val_loss: 0.5262 - val_accuracy: 0.8731\n",
            "Epoch 16/20\n",
            "30/30 [==============================] - 1s 26ms/step - loss: 0.0134 - accuracy: 0.9983 - val_loss: 0.5637 - val_accuracy: 0.8696\n",
            "Epoch 17/20\n",
            "30/30 [==============================] - 1s 25ms/step - loss: 0.0123 - accuracy: 0.9985 - val_loss: 0.5970 - val_accuracy: 0.8697\n",
            "Epoch 18/20\n",
            "30/30 [==============================] - 1s 26ms/step - loss: 0.0110 - accuracy: 0.9980 - val_loss: 0.6318 - val_accuracy: 0.8698\n",
            "Epoch 19/20\n",
            "30/30 [==============================] - 1s 27ms/step - loss: 0.0053 - accuracy: 0.9997 - val_loss: 0.6615 - val_accuracy: 0.8690\n",
            "Epoch 20/20\n",
            "30/30 [==============================] - 1s 26ms/step - loss: 0.0056 - accuracy: 0.9997 - val_loss: 0.7081 - val_accuracy: 0.8654\n"
          ]
        }
      ]
    },
    {
      "cell_type": "markdown",
      "metadata": {
        "id": "ZMowpnOlcaeH"
      },
      "source": [
        "**Version of the model with lower capacity**"
      ]
    },
    {
      "cell_type": "code",
      "metadata": {
        "id": "X5E3iFLAcaeH",
        "colab": {
          "base_uri": "https://localhost:8080/"
        },
        "outputId": "bc0b57ca-73b7-43c7-89d2-0ec9eb5ac1aa"
      },
      "source": [
        "model = keras.Sequential([\n",
        "    layers.Dense(4, activation=\"relu\"),\n",
        "    layers.Dense(4, activation=\"relu\"),\n",
        "    layers.Dense(1, activation=\"sigmoid\")\n",
        "])\n",
        "model.compile(optimizer=\"rmsprop\",\n",
        "              loss=\"binary_crossentropy\",\n",
        "              metrics=[\"accuracy\"])\n",
        "history_smaller_model = model.fit(\n",
        "    train_data, train_labels,\n",
        "    epochs=20, batch_size=512, validation_split=0.4)"
      ],
      "execution_count": null,
      "outputs": [
        {
          "output_type": "stream",
          "name": "stdout",
          "text": [
            "Epoch 1/20\n",
            "30/30 [==============================] - 1s 32ms/step - loss: 0.6496 - accuracy: 0.7373 - val_loss: 0.6072 - val_accuracy: 0.8064\n",
            "Epoch 2/20\n",
            "30/30 [==============================] - 1s 25ms/step - loss: 0.5606 - accuracy: 0.8459 - val_loss: 0.5255 - val_accuracy: 0.8388\n",
            "Epoch 3/20\n",
            "30/30 [==============================] - 1s 26ms/step - loss: 0.4684 - accuracy: 0.8836 - val_loss: 0.4476 - val_accuracy: 0.8647\n",
            "Epoch 4/20\n",
            "30/30 [==============================] - 1s 26ms/step - loss: 0.3857 - accuracy: 0.9006 - val_loss: 0.3822 - val_accuracy: 0.8808\n",
            "Epoch 5/20\n",
            "30/30 [==============================] - 1s 26ms/step - loss: 0.3198 - accuracy: 0.9123 - val_loss: 0.3440 - val_accuracy: 0.8776\n",
            "Epoch 6/20\n",
            "30/30 [==============================] - 1s 26ms/step - loss: 0.2700 - accuracy: 0.9217 - val_loss: 0.3087 - val_accuracy: 0.8872\n",
            "Epoch 7/20\n",
            "30/30 [==============================] - 1s 26ms/step - loss: 0.2318 - accuracy: 0.9308 - val_loss: 0.2883 - val_accuracy: 0.8920\n",
            "Epoch 8/20\n",
            "30/30 [==============================] - 1s 26ms/step - loss: 0.2025 - accuracy: 0.9379 - val_loss: 0.2793 - val_accuracy: 0.8910\n",
            "Epoch 9/20\n",
            "30/30 [==============================] - 1s 26ms/step - loss: 0.1791 - accuracy: 0.9440 - val_loss: 0.2722 - val_accuracy: 0.8932\n",
            "Epoch 10/20\n",
            "30/30 [==============================] - 1s 26ms/step - loss: 0.1590 - accuracy: 0.9521 - val_loss: 0.2762 - val_accuracy: 0.8888\n",
            "Epoch 11/20\n",
            "30/30 [==============================] - 1s 25ms/step - loss: 0.1434 - accuracy: 0.9559 - val_loss: 0.2750 - val_accuracy: 0.8911\n",
            "Epoch 12/20\n",
            "30/30 [==============================] - 1s 25ms/step - loss: 0.1287 - accuracy: 0.9617 - val_loss: 0.2780 - val_accuracy: 0.8900\n",
            "Epoch 13/20\n",
            "30/30 [==============================] - 1s 27ms/step - loss: 0.1157 - accuracy: 0.9655 - val_loss: 0.2855 - val_accuracy: 0.8895\n",
            "Epoch 14/20\n",
            "30/30 [==============================] - 1s 27ms/step - loss: 0.1019 - accuracy: 0.9694 - val_loss: 0.2985 - val_accuracy: 0.8887\n",
            "Epoch 15/20\n",
            "30/30 [==============================] - 1s 26ms/step - loss: 0.0906 - accuracy: 0.9735 - val_loss: 0.3109 - val_accuracy: 0.8872\n",
            "Epoch 16/20\n",
            "30/30 [==============================] - 1s 26ms/step - loss: 0.0814 - accuracy: 0.9774 - val_loss: 0.3241 - val_accuracy: 0.8848\n",
            "Epoch 17/20\n",
            "30/30 [==============================] - 1s 26ms/step - loss: 0.0732 - accuracy: 0.9809 - val_loss: 0.3395 - val_accuracy: 0.8830\n",
            "Epoch 18/20\n",
            "30/30 [==============================] - 1s 26ms/step - loss: 0.0657 - accuracy: 0.9829 - val_loss: 0.3515 - val_accuracy: 0.8827\n",
            "Epoch 19/20\n",
            "30/30 [==============================] - 1s 25ms/step - loss: 0.0585 - accuracy: 0.9854 - val_loss: 0.3668 - val_accuracy: 0.8800\n",
            "Epoch 20/20\n",
            "30/30 [==============================] - 1s 25ms/step - loss: 0.0526 - accuracy: 0.9874 - val_loss: 0.3835 - val_accuracy: 0.8814\n"
          ]
        }
      ]
    },
    {
      "cell_type": "markdown",
      "metadata": {
        "id": "7N1-zcwOcaeI"
      },
      "source": [
        "**Version of the model with higher capacity**"
      ]
    },
    {
      "cell_type": "code",
      "metadata": {
        "id": "V8RyFabncaeI",
        "colab": {
          "base_uri": "https://localhost:8080/"
        },
        "outputId": "5ec7008c-2f44-4bc2-f923-b28c05ce4dbb"
      },
      "source": [
        "model = keras.Sequential([\n",
        "    layers.Dense(512, activation=\"relu\"),\n",
        "    layers.Dense(512, activation=\"relu\"),\n",
        "    layers.Dense(1, activation=\"sigmoid\")\n",
        "])\n",
        "model.compile(optimizer=\"rmsprop\",\n",
        "              loss=\"binary_crossentropy\",\n",
        "              metrics=[\"accuracy\"])\n",
        "history_larger_model = model.fit(\n",
        "    train_data, train_labels,\n",
        "    epochs=20, batch_size=512, validation_split=0.4)"
      ],
      "execution_count": null,
      "outputs": [
        {
          "output_type": "stream",
          "name": "stdout",
          "text": [
            "Epoch 1/20\n",
            "30/30 [==============================] - 8s 259ms/step - loss: 0.5403 - accuracy: 0.7466 - val_loss: 0.3074 - val_accuracy: 0.8834\n",
            "Epoch 2/20\n",
            "30/30 [==============================] - 7s 246ms/step - loss: 0.2700 - accuracy: 0.8947 - val_loss: 0.2721 - val_accuracy: 0.8910\n",
            "Epoch 3/20\n",
            "30/30 [==============================] - 8s 252ms/step - loss: 0.1523 - accuracy: 0.9417 - val_loss: 0.4890 - val_accuracy: 0.8119\n",
            "Epoch 4/20\n",
            "30/30 [==============================] - 7s 246ms/step - loss: 0.0948 - accuracy: 0.9683 - val_loss: 0.3566 - val_accuracy: 0.8875\n",
            "Epoch 5/20\n",
            "30/30 [==============================] - 7s 248ms/step - loss: 0.1024 - accuracy: 0.9801 - val_loss: 0.3364 - val_accuracy: 0.8799\n",
            "Epoch 6/20\n",
            "30/30 [==============================] - 7s 245ms/step - loss: 0.0070 - accuracy: 0.9995 - val_loss: 0.4885 - val_accuracy: 0.8872\n",
            "Epoch 7/20\n",
            "30/30 [==============================] - 7s 246ms/step - loss: 8.1871e-04 - accuracy: 0.9999 - val_loss: 0.5927 - val_accuracy: 0.8836\n",
            "Epoch 8/20\n",
            "30/30 [==============================] - 7s 246ms/step - loss: 1.2237e-04 - accuracy: 1.0000 - val_loss: 0.7190 - val_accuracy: 0.8856\n",
            "Epoch 9/20\n",
            "30/30 [==============================] - 7s 243ms/step - loss: 2.0267e-05 - accuracy: 1.0000 - val_loss: 0.8144 - val_accuracy: 0.8847\n",
            "Epoch 10/20\n",
            "30/30 [==============================] - 7s 243ms/step - loss: 4.4091e-06 - accuracy: 1.0000 - val_loss: 0.9220 - val_accuracy: 0.8827\n",
            "Epoch 11/20\n",
            "30/30 [==============================] - 7s 246ms/step - loss: 1.1361e-06 - accuracy: 1.0000 - val_loss: 0.9983 - val_accuracy: 0.8843\n",
            "Epoch 12/20\n",
            "30/30 [==============================] - 7s 243ms/step - loss: 3.4746e-07 - accuracy: 1.0000 - val_loss: 1.0789 - val_accuracy: 0.8839\n",
            "Epoch 13/20\n",
            "30/30 [==============================] - 7s 246ms/step - loss: 1.2056e-07 - accuracy: 1.0000 - val_loss: 1.1435 - val_accuracy: 0.8838\n",
            "Epoch 14/20\n",
            "30/30 [==============================] - 7s 246ms/step - loss: 5.2926e-08 - accuracy: 1.0000 - val_loss: 1.1878 - val_accuracy: 0.8841\n",
            "Epoch 15/20\n",
            "30/30 [==============================] - 7s 242ms/step - loss: 2.9216e-08 - accuracy: 1.0000 - val_loss: 1.2228 - val_accuracy: 0.8842\n",
            "Epoch 16/20\n",
            "30/30 [==============================] - 7s 244ms/step - loss: 1.9402e-08 - accuracy: 1.0000 - val_loss: 1.2449 - val_accuracy: 0.8841\n",
            "Epoch 17/20\n",
            "30/30 [==============================] - 7s 243ms/step - loss: 1.4464e-08 - accuracy: 1.0000 - val_loss: 1.2651 - val_accuracy: 0.8830\n",
            "Epoch 18/20\n",
            "30/30 [==============================] - 7s 241ms/step - loss: 1.1557e-08 - accuracy: 1.0000 - val_loss: 1.2765 - val_accuracy: 0.8837\n",
            "Epoch 19/20\n",
            "30/30 [==============================] - 7s 243ms/step - loss: 9.6278e-09 - accuracy: 1.0000 - val_loss: 1.2876 - val_accuracy: 0.8838\n",
            "Epoch 20/20\n",
            "30/30 [==============================] - 7s 244ms/step - loss: 8.2596e-09 - accuracy: 1.0000 - val_loss: 1.2968 - val_accuracy: 0.8842\n"
          ]
        }
      ]
    },
    {
      "cell_type": "markdown",
      "metadata": {
        "id": "LWB1VW6DcaeI"
      },
      "source": [
        "#### Adding weight regularization"
      ]
    },
    {
      "cell_type": "markdown",
      "metadata": {
        "id": "ev8kSKAPcaeI"
      },
      "source": [
        "**Adding L2 weight regularization to the model**"
      ]
    },
    {
      "cell_type": "code",
      "metadata": {
        "id": "o3afrdC6caeI",
        "colab": {
          "base_uri": "https://localhost:8080/"
        },
        "outputId": "c5780929-0590-4e28-e2c0-c5e5e6070bd7"
      },
      "source": [
        "from tensorflow.keras import regularizers\n",
        "model = keras.Sequential([\n",
        "    layers.Dense(16,\n",
        "                 kernel_regularizer=regularizers.l2(0.002),\n",
        "                 activation=\"relu\"),\n",
        "    layers.Dense(16,\n",
        "                 kernel_regularizer=regularizers.l2(0.002),\n",
        "                 activation=\"relu\"),\n",
        "    layers.Dense(1, activation=\"sigmoid\")\n",
        "])\n",
        "model.compile(optimizer=\"rmsprop\",\n",
        "              loss=\"binary_crossentropy\",\n",
        "              metrics=[\"accuracy\"])\n",
        "history_l2_reg = model.fit(\n",
        "    train_data, train_labels,\n",
        "    epochs=20, batch_size=512, validation_split=0.4)"
      ],
      "execution_count": null,
      "outputs": [
        {
          "output_type": "stream",
          "name": "stdout",
          "text": [
            "Epoch 1/20\n",
            "30/30 [==============================] - 2s 35ms/step - loss: 0.6350 - accuracy: 0.7606 - val_loss: 0.5139 - val_accuracy: 0.8611\n",
            "Epoch 2/20\n",
            "30/30 [==============================] - 1s 27ms/step - loss: 0.4504 - accuracy: 0.8873 - val_loss: 0.4312 - val_accuracy: 0.8772\n",
            "Epoch 3/20\n",
            "30/30 [==============================] - 1s 27ms/step - loss: 0.3713 - accuracy: 0.9067 - val_loss: 0.3843 - val_accuracy: 0.8884\n",
            "Epoch 4/20\n",
            "30/30 [==============================] - 1s 27ms/step - loss: 0.3321 - accuracy: 0.9165 - val_loss: 0.3789 - val_accuracy: 0.8832\n",
            "Epoch 5/20\n",
            "30/30 [==============================] - 1s 27ms/step - loss: 0.3107 - accuracy: 0.9217 - val_loss: 0.3695 - val_accuracy: 0.8862\n",
            "Epoch 6/20\n",
            "30/30 [==============================] - 1s 27ms/step - loss: 0.2906 - accuracy: 0.9315 - val_loss: 0.3629 - val_accuracy: 0.8870\n",
            "Epoch 7/20\n",
            "30/30 [==============================] - 1s 27ms/step - loss: 0.2796 - accuracy: 0.9337 - val_loss: 0.3917 - val_accuracy: 0.8718\n",
            "Epoch 8/20\n",
            "30/30 [==============================] - 1s 27ms/step - loss: 0.2683 - accuracy: 0.9371 - val_loss: 0.3675 - val_accuracy: 0.8836\n",
            "Epoch 9/20\n",
            "30/30 [==============================] - 1s 27ms/step - loss: 0.2598 - accuracy: 0.9405 - val_loss: 0.3728 - val_accuracy: 0.8810\n",
            "Epoch 10/20\n",
            "30/30 [==============================] - 1s 28ms/step - loss: 0.2537 - accuracy: 0.9421 - val_loss: 0.3903 - val_accuracy: 0.8769\n",
            "Epoch 11/20\n",
            "30/30 [==============================] - 1s 28ms/step - loss: 0.2465 - accuracy: 0.9447 - val_loss: 0.3742 - val_accuracy: 0.8828\n",
            "Epoch 12/20\n",
            "30/30 [==============================] - 1s 26ms/step - loss: 0.2443 - accuracy: 0.9440 - val_loss: 0.4315 - val_accuracy: 0.8638\n",
            "Epoch 13/20\n",
            "30/30 [==============================] - 1s 27ms/step - loss: 0.2375 - accuracy: 0.9476 - val_loss: 0.3919 - val_accuracy: 0.8771\n",
            "Epoch 14/20\n",
            "30/30 [==============================] - 1s 28ms/step - loss: 0.2298 - accuracy: 0.9499 - val_loss: 0.4084 - val_accuracy: 0.8743\n",
            "Epoch 15/20\n",
            "30/30 [==============================] - 1s 28ms/step - loss: 0.2323 - accuracy: 0.9484 - val_loss: 0.3895 - val_accuracy: 0.8779\n",
            "Epoch 16/20\n",
            "30/30 [==============================] - 1s 28ms/step - loss: 0.2175 - accuracy: 0.9568 - val_loss: 0.4057 - val_accuracy: 0.8761\n",
            "Epoch 17/20\n",
            "30/30 [==============================] - 1s 27ms/step - loss: 0.2280 - accuracy: 0.9469 - val_loss: 0.4004 - val_accuracy: 0.8768\n",
            "Epoch 18/20\n",
            "30/30 [==============================] - 1s 28ms/step - loss: 0.2159 - accuracy: 0.9571 - val_loss: 0.4045 - val_accuracy: 0.8772\n",
            "Epoch 19/20\n",
            "30/30 [==============================] - 1s 28ms/step - loss: 0.2175 - accuracy: 0.9543 - val_loss: 0.4139 - val_accuracy: 0.8756\n",
            "Epoch 20/20\n",
            "30/30 [==============================] - 1s 27ms/step - loss: 0.2130 - accuracy: 0.9554 - val_loss: 0.4074 - val_accuracy: 0.8783\n"
          ]
        }
      ]
    },
    {
      "cell_type": "markdown",
      "metadata": {
        "id": "UUgkrATucaeI"
      },
      "source": [
        "**Different weight regularizers available in Keras**"
      ]
    },
    {
      "cell_type": "code",
      "metadata": {
        "id": "RHNVX4M1caeJ",
        "colab": {
          "base_uri": "https://localhost:8080/"
        },
        "outputId": "c77467d3-fd59-4a15-d50f-05313dd6bb04"
      },
      "source": [
        "from tensorflow.keras import regularizers\n",
        "regularizers.l1(0.001)\n",
        "regularizers.l1_l2(l1=0.001, l2=0.001)"
      ],
      "execution_count": null,
      "outputs": [
        {
          "output_type": "execute_result",
          "data": {
            "text/plain": [
              "<keras.regularizers.L1L2 at 0x7f696568ead0>"
            ]
          },
          "metadata": {},
          "execution_count": 23
        }
      ]
    },
    {
      "cell_type": "markdown",
      "metadata": {
        "id": "6ebMs8UNcaeJ"
      },
      "source": [
        "#### Adding dropout"
      ]
    },
    {
      "cell_type": "markdown",
      "metadata": {
        "id": "k7PRddeYcaeJ"
      },
      "source": [
        "**Adding dropout to the IMDB model**"
      ]
    },
    {
      "cell_type": "code",
      "metadata": {
        "id": "M_a3p_S6caeJ",
        "colab": {
          "base_uri": "https://localhost:8080/"
        },
        "outputId": "c14c1593-18cc-4532-9fa6-b91ed53b4795"
      },
      "source": [
        "model = keras.Sequential([\n",
        "    layers.Dense(16, activation=\"relu\"),\n",
        "    layers.Dropout(0.5),\n",
        "    layers.Dense(16, activation=\"relu\"),\n",
        "    layers.Dropout(0.5),\n",
        "    layers.Dense(1, activation=\"sigmoid\")\n",
        "])\n",
        "model.compile(optimizer=\"rmsprop\",\n",
        "              loss=\"binary_crossentropy\",\n",
        "              metrics=[\"accuracy\"])\n",
        "history_dropout = model.fit(\n",
        "    train_data, train_labels,\n",
        "    epochs=20, batch_size=512, validation_split=0.4)"
      ],
      "execution_count": null,
      "outputs": [
        {
          "output_type": "stream",
          "name": "stdout",
          "text": [
            "Epoch 1/20\n",
            "30/30 [==============================] - 2s 39ms/step - loss: 0.6155 - accuracy: 0.6740 - val_loss: 0.4957 - val_accuracy: 0.8351\n",
            "Epoch 2/20\n",
            "30/30 [==============================] - 1s 28ms/step - loss: 0.4993 - accuracy: 0.7871 - val_loss: 0.4033 - val_accuracy: 0.8819\n",
            "Epoch 3/20\n",
            "30/30 [==============================] - 1s 27ms/step - loss: 0.4252 - accuracy: 0.8402 - val_loss: 0.3484 - val_accuracy: 0.8838\n",
            "Epoch 4/20\n",
            "30/30 [==============================] - 1s 27ms/step - loss: 0.3649 - accuracy: 0.8743 - val_loss: 0.3162 - val_accuracy: 0.8878\n",
            "Epoch 5/20\n",
            "30/30 [==============================] - 1s 28ms/step - loss: 0.3194 - accuracy: 0.8921 - val_loss: 0.3026 - val_accuracy: 0.8894\n",
            "Epoch 6/20\n",
            "30/30 [==============================] - 1s 26ms/step - loss: 0.2820 - accuracy: 0.9109 - val_loss: 0.2865 - val_accuracy: 0.8941\n",
            "Epoch 7/20\n",
            "30/30 [==============================] - 1s 27ms/step - loss: 0.2446 - accuracy: 0.9229 - val_loss: 0.2964 - val_accuracy: 0.8904\n",
            "Epoch 8/20\n",
            "30/30 [==============================] - 1s 27ms/step - loss: 0.2210 - accuracy: 0.9319 - val_loss: 0.2826 - val_accuracy: 0.8920\n",
            "Epoch 9/20\n",
            "30/30 [==============================] - 1s 27ms/step - loss: 0.1990 - accuracy: 0.9407 - val_loss: 0.3055 - val_accuracy: 0.8939\n",
            "Epoch 10/20\n",
            "30/30 [==============================] - 1s 27ms/step - loss: 0.1743 - accuracy: 0.9478 - val_loss: 0.3409 - val_accuracy: 0.8876\n",
            "Epoch 11/20\n",
            "30/30 [==============================] - 1s 27ms/step - loss: 0.1580 - accuracy: 0.9527 - val_loss: 0.3400 - val_accuracy: 0.8892\n",
            "Epoch 12/20\n",
            "30/30 [==============================] - 1s 27ms/step - loss: 0.1438 - accuracy: 0.9579 - val_loss: 0.3633 - val_accuracy: 0.8901\n",
            "Epoch 13/20\n",
            "30/30 [==============================] - 1s 28ms/step - loss: 0.1271 - accuracy: 0.9617 - val_loss: 0.3760 - val_accuracy: 0.8890\n",
            "Epoch 14/20\n",
            "30/30 [==============================] - 1s 27ms/step - loss: 0.1193 - accuracy: 0.9646 - val_loss: 0.4020 - val_accuracy: 0.8889\n",
            "Epoch 15/20\n",
            "30/30 [==============================] - 1s 27ms/step - loss: 0.1086 - accuracy: 0.9671 - val_loss: 0.4309 - val_accuracy: 0.8887\n",
            "Epoch 16/20\n",
            "30/30 [==============================] - 1s 27ms/step - loss: 0.1021 - accuracy: 0.9690 - val_loss: 0.4741 - val_accuracy: 0.8857\n",
            "Epoch 17/20\n",
            "30/30 [==============================] - 1s 27ms/step - loss: 0.0944 - accuracy: 0.9725 - val_loss: 0.4729 - val_accuracy: 0.8852\n",
            "Epoch 18/20\n",
            "30/30 [==============================] - 1s 27ms/step - loss: 0.0925 - accuracy: 0.9719 - val_loss: 0.4878 - val_accuracy: 0.8855\n",
            "Epoch 19/20\n",
            "30/30 [==============================] - 1s 27ms/step - loss: 0.0821 - accuracy: 0.9765 - val_loss: 0.5144 - val_accuracy: 0.8849\n",
            "Epoch 20/20\n",
            "30/30 [==============================] - 1s 28ms/step - loss: 0.0795 - accuracy: 0.9757 - val_loss: 0.5757 - val_accuracy: 0.8868\n"
          ]
        }
      ]
    }
  ]
}